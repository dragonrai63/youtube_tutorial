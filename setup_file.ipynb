{
 "cells": [
  {
   "cell_type": "code",
   "execution_count": 6,
   "id": "f0cd344e-eb00-4a0a-846b-8192af91eee0",
   "metadata": {},
   "outputs": [
    {
     "name": "stdout",
     "output_type": "stream",
     "text": [
      "Overwriting setup.py\n"
     ]
    }
   ],
   "source": [
    "%%writefile setup.py\n",
    "from setuptools import find_packages,setup\n",
    "from typing import List\n",
    "\n",
    "HYPEN_E_DOT='-e .'\n",
    "def get_requirements(file_path:str)->List[str]:\n",
    "    '''\n",
    "    this function will return the list of requirements\n",
    "    '''\n",
    "    requirements=[]\n",
    "    with open(file_path) as file_obj:\n",
    "        requirements=file_obj.readlines()\n",
    "        requirements=[req.replace(\"\\n\",\"\") for req in requirements]\n",
    "\n",
    "        if HYPEN_E_DOT in requirements:\n",
    "            requirements.remove(HYPEN_E_DOT)\n",
    "    \n",
    "    return requirements\n",
    "\n",
    "setup(\n",
    "name='mlproject',\n",
    "version='0.0.1',\n",
    "author='Krish',\n",
    "author_email='krishnaik06@gmail.com',\n",
    "packages=find_packages(),\n",
    "install_requires=get_requirements('requirements.txt')\n",
    "\n",
    ")"
   ]
  },
  {
   "cell_type": "code",
   "execution_count": null,
   "id": "d3954283-801c-4bb6-8c6a-c0f078a66a02",
   "metadata": {},
   "outputs": [],
   "source": []
  }
 ],
 "metadata": {
  "kernelspec": {
   "display_name": "Python 3 (ipykernel)",
   "language": "python",
   "name": "python3"
  },
  "language_info": {
   "codemirror_mode": {
    "name": "ipython",
    "version": 3
   },
   "file_extension": ".py",
   "mimetype": "text/x-python",
   "name": "python",
   "nbconvert_exporter": "python",
   "pygments_lexer": "ipython3",
   "version": "3.11.7"
  }
 },
 "nbformat": 4,
 "nbformat_minor": 5
}
