{
 "cells": [
  {
   "cell_type": "code",
   "execution_count": 2,
   "id": "403ef765-0eba-477d-9ca6-2230161c2ab6",
   "metadata": {},
   "outputs": [
    {
     "name": "stdout",
     "output_type": "stream",
     "text": [
      "Reinitialized existing Git repository in C:/Users/raifa/youtube_tutorial/.git/\n",
      "[main (root-commit) 9746130] first commit\n",
      " 1 file changed, 0 insertions(+), 0 deletions(-)\n",
      " create mode 100644 README.md\n"
     ]
    },
    {
     "name": "stderr",
     "output_type": "stream",
     "text": [
      "error: remote origin already exists.\n"
     ]
    },
    {
     "name": "stdout",
     "output_type": "stream",
     "text": [
      "branch 'main' set up to track 'origin/main'.\n"
     ]
    },
    {
     "name": "stderr",
     "output_type": "stream",
     "text": [
      "To https://github.com/dragonrai63/youtube_tutorial.git\n",
      " * [new branch]      main -> main\n"
     ]
    }
   ],
   "source": [
    "!git init\n",
    "!git add README.md\n",
    "!git commit -m \"first commit\"\n",
    "!git branch -M main\n",
    "!git remote add origin https://github.com/dragonrai63/youtube_tutorial.git\n",
    "!git push -u origin main"
   ]
  },
  {
   "cell_type": "markdown",
   "id": "e9ab7892-7174-4215-8359-d85df34b6496",
   "metadata": {},
   "source": [
    "# first changing the route of file to create new rep"
   ]
  },
  {
   "cell_type": "code",
   "execution_count": 3,
   "id": "931a0371-8232-47ee-991c-3e147458e60b",
   "metadata": {},
   "outputs": [],
   "source": [
    "!git remote remove origin\n",
    "!git remote add origin https://github.com/dragonrai63/youtube_tutorial.git\n"
   ]
  },
  {
   "cell_type": "code",
   "execution_count": 8,
   "id": "158be941-8de1-4256-9488-1a1711915eed",
   "metadata": {},
   "outputs": [],
   "source": [
    "# !git add *\n",
    "# !git commit -m \"new file added\"\n",
    "# !git push -u origin main"
   ]
  },
  {
   "cell_type": "code",
   "execution_count": 11,
   "id": "30bbd703-903a-4244-87fd-e92f7cc5d9db",
   "metadata": {},
   "outputs": [
    {
     "name": "stdout",
     "output_type": "stream",
     "text": [
      "Python 3.11.7\n"
     ]
    }
   ],
   "source": [
    "!python --version\n"
   ]
  },
  {
   "cell_type": "markdown",
   "id": "3ac4202b-9d74-477e-b936-c7ee264acb07",
   "metadata": {},
   "source": [
    "# creating a new env seperately"
   ]
  },
  {
   "cell_type": "code",
   "execution_count": 12,
   "id": "1d44e8d3-8bee-404d-86a2-e3eda75dffef",
   "metadata": {},
   "outputs": [
    {
     "name": "stdout",
     "output_type": "stream",
     "text": [
      "Retrieving notices: ...working... done\n",
      "Channels:\n",
      " - defaults\n",
      "Platform: win-64\n",
      "Collecting package metadata (repodata.json): ...working... done\n",
      "Solving environment: ...working... done\n",
      "\n",
      "## Package Plan ##\n",
      "\n",
      "  environment location: C:\\Users\\raifa\\youtube_tutorial\\venv\n",
      "\n",
      "  added / updated specs:\n",
      "    - python==3.11.7\n",
      "\n",
      "\n",
      "The following packages will be downloaded:\n",
      "\n",
      "    package                    |            build\n",
      "    ---------------------------|-----------------\n",
      "    pip-25.0                   |  py311haa95532_0         3.1 MB\n",
      "    setuptools-75.8.0          |  py311haa95532_0         2.2 MB\n",
      "    vc-14.42                   |       haa95532_3          10 KB\n",
      "    vs2015_runtime-14.42.34433 |       he0abc0d_3         1.2 MB\n",
      "    wheel-0.45.1               |  py311haa95532_0         182 KB\n",
      "    ------------------------------------------------------------\n",
      "                                           Total:         6.7 MB\n",
      "\n",
      "The following NEW packages will be INSTALLED:\n",
      "\n",
      "  bzip2              pkgs/main/win-64::bzip2-1.0.8-h2bbff1b_6 \n",
      "  ca-certificates    pkgs/main/win-64::ca-certificates-2024.12.31-haa95532_0 \n",
      "  libffi             pkgs/main/win-64::libffi-3.4.4-hd77b12b_1 \n",
      "  openssl            pkgs/main/win-64::openssl-3.0.15-h827c3e9_0 \n",
      "  pip                pkgs/main/win-64::pip-25.0-py311haa95532_0 \n",
      "  python             pkgs/main/win-64::python-3.11.7-he1021f5_0 \n",
      "  setuptools         pkgs/main/win-64::setuptools-75.8.0-py311haa95532_0 \n",
      "  sqlite             pkgs/main/win-64::sqlite-3.45.3-h2bbff1b_0 \n",
      "  tk                 pkgs/main/win-64::tk-8.6.14-h0416ee5_0 \n",
      "  tzdata             pkgs/main/noarch::tzdata-2025a-h04d1e81_0 \n",
      "  vc                 pkgs/main/win-64::vc-14.42-haa95532_3 \n",
      "  vs2015_runtime     pkgs/main/win-64::vs2015_runtime-14.42.34433-he0abc0d_3 \n",
      "  wheel              pkgs/main/win-64::wheel-0.45.1-py311haa95532_0 \n",
      "  xz                 pkgs/main/win-64::xz-5.4.6-h8cc25b3_1 \n",
      "  zlib               pkgs/main/win-64::zlib-1.2.13-h8cc25b3_1 \n",
      "\n",
      "\n",
      "\n",
      "Downloading and Extracting Packages: ...working... done\n",
      "Preparing transaction: ...working... done\n",
      "Verifying transaction: ...working... done\n",
      "Executing transaction: ...working... done\n",
      "#\n",
      "# To activate this environment, use\n",
      "#\n",
      "#     $ conda activate C:\\Users\\raifa\\youtube_tutorial\\venv\n",
      "#\n",
      "# To deactivate an active environment, use\n",
      "#\n",
      "#     $ conda deactivate\n",
      "\n"
     ]
    }
   ],
   "source": [
    "!conda create -p venv python==3.11.7 -y"
   ]
  },
  {
   "cell_type": "code",
   "execution_count": null,
   "id": "a876d1c1-a12b-45da-99b8-1a3ac7249275",
   "metadata": {},
   "outputs": [],
   "source": []
  },
  {
   "cell_type": "code",
   "execution_count": 14,
   "id": "a7b983b9-6208-41e2-a49d-0d57aed1aa95",
   "metadata": {},
   "outputs": [],
   "source": [
    "!conda activate venv/"
   ]
  },
  {
   "cell_type": "markdown",
   "id": "8903f17f-99ad-4fea-95b4-3723e358cad2",
   "metadata": {},
   "source": [
    "# now adding a jupyter in new environment\n"
   ]
  },
  {
   "cell_type": "code",
   "execution_count": 15,
   "id": "0b47381a-604b-40a8-92fd-14bd50cdb646",
   "metadata": {},
   "outputs": [
    {
     "name": "stdout",
     "output_type": "stream",
     "text": [
      "Channels:\n",
      " - defaults\n",
      "Platform: win-64\n",
      "Collecting package metadata (repodata.json): ...working... done\n",
      "Solving environment: ...working... done\n",
      "\n",
      "## Package Plan ##\n",
      "\n",
      "  environment location: C:\\Users\\raifa\\youtube_tutorial\\venv\n",
      "\n",
      "  added / updated specs:\n",
      "    - ipykernel\n",
      "    - jupyter\n",
      "\n",
      "\n",
      "The following packages will be downloaded:\n",
      "\n",
      "    package                    |            build\n",
      "    ---------------------------|-----------------\n",
      "    anyio-4.6.2                |  py311haa95532_0         253 KB\n",
      "    argon2-cffi-bindings-21.2.0|  py311h827c3e9_1          41 KB\n",
      "    attrs-24.3.0               |  py311haa95532_0         176 KB\n",
      "    babel-2.16.0               |  py311haa95532_0         6.9 MB\n",
      "    beautifulsoup4-4.12.3      |  py311haa95532_0         273 KB\n",
      "    bleach-6.2.0               |  py311haa95532_0         367 KB\n",
      "    brotli-python-1.0.9        |  py311h5da7b33_9         346 KB\n",
      "    certifi-2025.1.31          |  py311haa95532_0         164 KB\n",
      "    cffi-1.17.1                |  py311h827c3e9_1         315 KB\n",
      "    charset-normalizer-3.3.2   |     pyhd3eb1b0_0          44 KB\n",
      "    comm-0.2.1                 |  py311haa95532_0          17 KB\n",
      "    debugpy-1.8.11             |  py311h5da7b33_0         3.7 MB\n",
      "    h11-0.14.0                 |  py311haa95532_0         118 KB\n",
      "    httpcore-1.0.2             |  py311haa95532_0         118 KB\n",
      "    httpx-0.27.0               |  py311haa95532_0         235 KB\n",
      "    idna-3.7                   |  py311haa95532_0         133 KB\n",
      "    ipykernel-6.29.5           |  py311haa95532_1         259 KB\n",
      "    ipython-8.30.0             |  py311haa95532_0         1.5 MB\n",
      "    ipywidgets-8.1.5           |  py311haa95532_0         259 KB\n",
      "    jedi-0.19.2                |  py311haa95532_0         1.2 MB\n",
      "    jinja2-3.1.5               |  py311haa95532_0         366 KB\n",
      "    jpeg-9e                    |       h827c3e9_3         334 KB\n",
      "    json5-0.9.25               |  py311haa95532_0          82 KB\n",
      "    jsonschema-4.23.0          |  py311haa95532_0         229 KB\n",
      "    jupyter-1.1.1              |  py311haa95532_0           9 KB\n",
      "    jupyter_client-8.6.3       |  py311haa95532_0         262 KB\n",
      "    jupyter_core-5.7.2         |  py311haa95532_0         126 KB\n",
      "    jupyter_events-0.10.0      |  py311haa95532_0          67 KB\n",
      "    jupyter_server-2.14.1      |  py311haa95532_0         626 KB\n",
      "    jupyterlab-4.3.4           |  py311haa95532_0         5.5 MB\n",
      "    jupyterlab_server-2.27.3   |  py311haa95532_0         114 KB\n",
      "    jupyterlab_widgets-3.0.13  |  py311haa95532_0         195 KB\n",
      "    libclang-14.0.6            |default_hb5a9fac_2         152 KB\n",
      "    libclang13-14.0.6          |default_h8e68704_2        22.6 MB\n",
      "    libpq-17.2                 |       h70ee33d_0         4.2 MB\n",
      "    lz4-c-1.9.4                |       h2bbff1b_1         152 KB\n",
      "    markupsafe-3.0.2           |  py311h827c3e9_0          39 KB\n",
      "    nbconvert-7.16.4           |  py311haa95532_0         543 KB\n",
      "    nbformat-5.10.4            |  py311haa95532_0         189 KB\n",
      "    notebook-7.3.2             |  py311haa95532_0        10.3 MB\n",
      "    packaging-24.2             |  py311haa95532_0         200 KB\n",
      "    parso-0.8.4                |  py311haa95532_0         245 KB\n",
      "    prometheus_client-0.21.0   |  py311haa95532_0         127 KB\n",
      "    psutil-5.9.0               |  py311h827c3e9_1         525 KB\n",
      "    pyqt-5.15.10               |  py311h5da7b33_1         4.2 MB\n",
      "    pyqt5-sip-12.13.0          |  py311h827c3e9_1          86 KB\n",
      "    python-dateutil-2.9.0post0 |  py311haa95532_2         324 KB\n",
      "    python-fastjsonschema-2.20.0|  py311haa95532_0         263 KB\n",
      "    python-json-logger-3.2.1   |  py311haa95532_0          29 KB\n",
      "    pywin32-308                |  py311h5da7b33_0        10.9 MB\n",
      "    pywinpty-2.0.14            |  py311h72d21ff_0         232 KB\n",
      "    pyyaml-6.0.2               |  py311h827c3e9_0         205 KB\n",
      "    pyzmq-26.2.0               |  py311h5da7b33_0         389 KB\n",
      "    qt-main-5.15.2             |      h19c9488_11        60.2 MB\n",
      "    qtconsole-5.6.1            |  py311haa95532_0         294 KB\n",
      "    requests-2.32.3            |  py311haa95532_1         128 KB\n",
      "    rpds-py-0.22.3             |  py311h636fa0f_0         249 KB\n",
      "    send2trash-1.8.2           |  py311haa95532_1          98 KB\n",
      "    sip-6.7.12                 |  py311h5da7b33_1         627 KB\n",
      "    tinycss2-1.4.0             |  py311haa95532_0         114 KB\n",
      "    tornado-6.4.2              |  py311h827c3e9_0         896 KB\n",
      "    traitlets-5.14.3           |  py311haa95532_0         226 KB\n",
      "    typing-extensions-4.12.2   |  py311haa95532_0          10 KB\n",
      "    typing_extensions-4.12.2   |  py311haa95532_0          82 KB\n",
      "    urllib3-2.3.0              |  py311haa95532_0         242 KB\n",
      "    websocket-client-1.8.0     |  py311haa95532_0         147 KB\n",
      "    widgetsnbextension-4.0.13  |  py311haa95532_0         949 KB\n",
      "    zstd-1.5.6                 |       h8880b57_0         708 KB\n",
      "    ------------------------------------------------------------\n",
      "                                           Total:       144.9 MB\n",
      "\n",
      "The following NEW packages will be INSTALLED:\n",
      "\n",
      "  anyio              pkgs/main/win-64::anyio-4.6.2-py311haa95532_0 \n",
      "  argon2-cffi        pkgs/main/noarch::argon2-cffi-21.3.0-pyhd3eb1b0_0 \n",
      "  argon2-cffi-bindi~ pkgs/main/win-64::argon2-cffi-bindings-21.2.0-py311h827c3e9_1 \n",
      "  asttokens          pkgs/main/noarch::asttokens-2.0.5-pyhd3eb1b0_0 \n",
      "  async-lru          pkgs/main/win-64::async-lru-2.0.4-py311haa95532_0 \n",
      "  attrs              pkgs/main/win-64::attrs-24.3.0-py311haa95532_0 \n",
      "  babel              pkgs/main/win-64::babel-2.16.0-py311haa95532_0 \n",
      "  beautifulsoup4     pkgs/main/win-64::beautifulsoup4-4.12.3-py311haa95532_0 \n",
      "  bleach             pkgs/main/win-64::bleach-6.2.0-py311haa95532_0 \n",
      "  brotli-python      pkgs/main/win-64::brotli-python-1.0.9-py311h5da7b33_9 \n",
      "  certifi            pkgs/main/win-64::certifi-2025.1.31-py311haa95532_0 \n",
      "  cffi               pkgs/main/win-64::cffi-1.17.1-py311h827c3e9_1 \n",
      "  charset-normalizer pkgs/main/noarch::charset-normalizer-3.3.2-pyhd3eb1b0_0 \n",
      "  colorama           pkgs/main/win-64::colorama-0.4.6-py311haa95532_0 \n",
      "  comm               pkgs/main/win-64::comm-0.2.1-py311haa95532_0 \n",
      "  debugpy            pkgs/main/win-64::debugpy-1.8.11-py311h5da7b33_0 \n",
      "  decorator          pkgs/main/noarch::decorator-5.1.1-pyhd3eb1b0_0 \n",
      "  defusedxml         pkgs/main/noarch::defusedxml-0.7.1-pyhd3eb1b0_0 \n",
      "  executing          pkgs/main/noarch::executing-0.8.3-pyhd3eb1b0_0 \n",
      "  h11                pkgs/main/win-64::h11-0.14.0-py311haa95532_0 \n",
      "  httpcore           pkgs/main/win-64::httpcore-1.0.2-py311haa95532_0 \n",
      "  httpx              pkgs/main/win-64::httpx-0.27.0-py311haa95532_0 \n",
      "  icu                pkgs/main/win-64::icu-73.1-h6c2663c_0 \n",
      "  idna               pkgs/main/win-64::idna-3.7-py311haa95532_0 \n",
      "  ipykernel          pkgs/main/win-64::ipykernel-6.29.5-py311haa95532_1 \n",
      "  ipython            pkgs/main/win-64::ipython-8.30.0-py311haa95532_0 \n",
      "  ipywidgets         pkgs/main/win-64::ipywidgets-8.1.5-py311haa95532_0 \n",
      "  jedi               pkgs/main/win-64::jedi-0.19.2-py311haa95532_0 \n",
      "  jinja2             pkgs/main/win-64::jinja2-3.1.5-py311haa95532_0 \n",
      "  jpeg               pkgs/main/win-64::jpeg-9e-h827c3e9_3 \n",
      "  json5              pkgs/main/win-64::json5-0.9.25-py311haa95532_0 \n",
      "  jsonschema         pkgs/main/win-64::jsonschema-4.23.0-py311haa95532_0 \n",
      "  jsonschema-specif~ pkgs/main/win-64::jsonschema-specifications-2023.7.1-py311haa95532_0 \n",
      "  jupyter            pkgs/main/win-64::jupyter-1.1.1-py311haa95532_0 \n",
      "  jupyter-lsp        pkgs/main/win-64::jupyter-lsp-2.2.0-py311haa95532_0 \n",
      "  jupyter_client     pkgs/main/win-64::jupyter_client-8.6.3-py311haa95532_0 \n",
      "  jupyter_console    pkgs/main/win-64::jupyter_console-6.6.3-py311haa95532_0 \n",
      "  jupyter_core       pkgs/main/win-64::jupyter_core-5.7.2-py311haa95532_0 \n",
      "  jupyter_events     pkgs/main/win-64::jupyter_events-0.10.0-py311haa95532_0 \n",
      "  jupyter_server     pkgs/main/win-64::jupyter_server-2.14.1-py311haa95532_0 \n",
      "  jupyter_server_te~ pkgs/main/win-64::jupyter_server_terminals-0.4.4-py311haa95532_1 \n",
      "  jupyterlab         pkgs/main/win-64::jupyterlab-4.3.4-py311haa95532_0 \n",
      "  jupyterlab_pygmen~ pkgs/main/noarch::jupyterlab_pygments-0.1.2-py_0 \n",
      "  jupyterlab_server  pkgs/main/win-64::jupyterlab_server-2.27.3-py311haa95532_0 \n",
      "  jupyterlab_widgets pkgs/main/win-64::jupyterlab_widgets-3.0.13-py311haa95532_0 \n",
      "  krb5               pkgs/main/win-64::krb5-1.20.1-h5b6d351_0 \n",
      "  libclang           pkgs/main/win-64::libclang-14.0.6-default_hb5a9fac_2 \n",
      "  libclang13         pkgs/main/win-64::libclang13-14.0.6-default_h8e68704_2 \n",
      "  libpng             pkgs/main/win-64::libpng-1.6.39-h8cc25b3_0 \n",
      "  libpq              pkgs/main/win-64::libpq-17.2-h70ee33d_0 \n",
      "  libsodium          pkgs/main/win-64::libsodium-1.0.18-h62dcd97_0 \n",
      "  lz4-c              pkgs/main/win-64::lz4-c-1.9.4-h2bbff1b_1 \n",
      "  markupsafe         pkgs/main/win-64::markupsafe-3.0.2-py311h827c3e9_0 \n",
      "  matplotlib-inline  pkgs/main/win-64::matplotlib-inline-0.1.6-py311haa95532_0 \n",
      "  mistune            pkgs/main/win-64::mistune-2.0.4-py311haa95532_0 \n",
      "  nbclient           pkgs/main/win-64::nbclient-0.8.0-py311haa95532_0 \n",
      "  nbconvert          pkgs/main/win-64::nbconvert-7.16.4-py311haa95532_0 \n",
      "  nbformat           pkgs/main/win-64::nbformat-5.10.4-py311haa95532_0 \n",
      "  nest-asyncio       pkgs/main/win-64::nest-asyncio-1.6.0-py311haa95532_0 \n",
      "  notebook           pkgs/main/win-64::notebook-7.3.2-py311haa95532_0 \n",
      "  notebook-shim      pkgs/main/win-64::notebook-shim-0.2.3-py311haa95532_0 \n",
      "  overrides          pkgs/main/win-64::overrides-7.4.0-py311haa95532_0 \n",
      "  packaging          pkgs/main/win-64::packaging-24.2-py311haa95532_0 \n",
      "  pandocfilters      pkgs/main/noarch::pandocfilters-1.5.0-pyhd3eb1b0_0 \n",
      "  parso              pkgs/main/win-64::parso-0.8.4-py311haa95532_0 \n",
      "  platformdirs       pkgs/main/win-64::platformdirs-3.10.0-py311haa95532_0 \n",
      "  ply                pkgs/main/win-64::ply-3.11-py311haa95532_0 \n",
      "  prometheus_client  pkgs/main/win-64::prometheus_client-0.21.0-py311haa95532_0 \n",
      "  prompt-toolkit     pkgs/main/win-64::prompt-toolkit-3.0.43-py311haa95532_0 \n",
      "  prompt_toolkit     pkgs/main/noarch::prompt_toolkit-3.0.43-hd3eb1b0_0 \n",
      "  psutil             pkgs/main/win-64::psutil-5.9.0-py311h827c3e9_1 \n",
      "  pure_eval          pkgs/main/noarch::pure_eval-0.2.2-pyhd3eb1b0_0 \n",
      "  pycparser          pkgs/main/noarch::pycparser-2.21-pyhd3eb1b0_0 \n",
      "  pygments           pkgs/main/win-64::pygments-2.15.1-py311haa95532_1 \n",
      "  pyqt               pkgs/main/win-64::pyqt-5.15.10-py311h5da7b33_1 \n",
      "  pyqt5-sip          pkgs/main/win-64::pyqt5-sip-12.13.0-py311h827c3e9_1 \n",
      "  pysocks            pkgs/main/win-64::pysocks-1.7.1-py311haa95532_0 \n",
      "  python-dateutil    pkgs/main/win-64::python-dateutil-2.9.0post0-py311haa95532_2 \n",
      "  python-fastjsonsc~ pkgs/main/win-64::python-fastjsonschema-2.20.0-py311haa95532_0 \n",
      "  python-json-logger pkgs/main/win-64::python-json-logger-3.2.1-py311haa95532_0 \n",
      "  pywin32            pkgs/main/win-64::pywin32-308-py311h5da7b33_0 \n",
      "  pywinpty           pkgs/main/win-64::pywinpty-2.0.14-py311h72d21ff_0 \n",
      "  pyyaml             pkgs/main/win-64::pyyaml-6.0.2-py311h827c3e9_0 \n",
      "  pyzmq              pkgs/main/win-64::pyzmq-26.2.0-py311h5da7b33_0 \n",
      "  qt-main            pkgs/main/win-64::qt-main-5.15.2-h19c9488_11 \n",
      "  qtconsole          pkgs/main/win-64::qtconsole-5.6.1-py311haa95532_0 \n",
      "  qtpy               pkgs/main/win-64::qtpy-2.4.1-py311haa95532_0 \n",
      "  referencing        pkgs/main/win-64::referencing-0.30.2-py311haa95532_0 \n",
      "  requests           pkgs/main/win-64::requests-2.32.3-py311haa95532_1 \n",
      "  rfc3339-validator  pkgs/main/win-64::rfc3339-validator-0.1.4-py311haa95532_0 \n",
      "  rfc3986-validator  pkgs/main/win-64::rfc3986-validator-0.1.1-py311haa95532_0 \n",
      "  rpds-py            pkgs/main/win-64::rpds-py-0.22.3-py311h636fa0f_0 \n",
      "  send2trash         pkgs/main/win-64::send2trash-1.8.2-py311haa95532_1 \n",
      "  sip                pkgs/main/win-64::sip-6.7.12-py311h5da7b33_1 \n",
      "  six                pkgs/main/noarch::six-1.16.0-pyhd3eb1b0_1 \n",
      "  sniffio            pkgs/main/win-64::sniffio-1.3.0-py311haa95532_0 \n",
      "  soupsieve          pkgs/main/win-64::soupsieve-2.5-py311haa95532_0 \n",
      "  stack_data         pkgs/main/noarch::stack_data-0.2.0-pyhd3eb1b0_0 \n",
      "  terminado          pkgs/main/win-64::terminado-0.17.1-py311haa95532_0 \n",
      "  tinycss2           pkgs/main/win-64::tinycss2-1.4.0-py311haa95532_0 \n",
      "  tornado            pkgs/main/win-64::tornado-6.4.2-py311h827c3e9_0 \n",
      "  traitlets          pkgs/main/win-64::traitlets-5.14.3-py311haa95532_0 \n",
      "  typing-extensions  pkgs/main/win-64::typing-extensions-4.12.2-py311haa95532_0 \n",
      "  typing_extensions  pkgs/main/win-64::typing_extensions-4.12.2-py311haa95532_0 \n",
      "  urllib3            pkgs/main/win-64::urllib3-2.3.0-py311haa95532_0 \n",
      "  wcwidth            pkgs/main/noarch::wcwidth-0.2.5-pyhd3eb1b0_0 \n",
      "  webencodings       pkgs/main/win-64::webencodings-0.5.1-py311haa95532_1 \n",
      "  websocket-client   pkgs/main/win-64::websocket-client-1.8.0-py311haa95532_0 \n",
      "  widgetsnbextension pkgs/main/win-64::widgetsnbextension-4.0.13-py311haa95532_0 \n",
      "  win_inet_pton      pkgs/main/win-64::win_inet_pton-1.1.0-py311haa95532_0 \n",
      "  winpty             pkgs/main/win-64::winpty-0.4.3-4 \n",
      "  yaml               pkgs/main/win-64::yaml-0.2.5-he774522_0 \n",
      "  zeromq             pkgs/main/win-64::zeromq-4.3.5-hd77b12b_0 \n",
      "  zstd               pkgs/main/win-64::zstd-1.5.6-h8880b57_0 \n",
      "\n",
      "\n",
      "\n",
      "Downloading and Extracting Packages: ...working... done\n",
      "Preparing transaction: ...working... done\n",
      "Verifying transaction: ...working... done\n",
      "Executing transaction: ...working...  \n",
      "Warning: using menuinst v1 shortcuts \n",
      "Please update menuinst in the base environment and reinstall notebook. \n",
      "\n",
      "done\n"
     ]
    }
   ],
   "source": [
    "!conda install -p venv jupyter ipykernel -y\n"
   ]
  },
  {
   "cell_type": "markdown",
   "id": "c6d1ff70-9154-43a8-8918-1952172e80b5",
   "metadata": {},
   "source": [
    "# adding new env in jupyter"
   ]
  },
  {
   "cell_type": "code",
   "execution_count": 1,
   "id": "54740bb7-dacf-47ed-ad4b-6213a4041096",
   "metadata": {},
   "outputs": [
    {
     "name": "stdout",
     "output_type": "stream",
     "text": [
      "Installed kernelspec venv in C:\\Users\\raifa\\AppData\\Roaming\\jupyter\\kernels\\venv\n"
     ]
    },
    {
     "name": "stderr",
     "output_type": "stream",
     "text": [
      "0.00s - Debugger warning: It seems that frozen modules are being used, which may\n",
      "0.00s - make the debugger miss breakpoints. Please pass -Xfrozen_modules=off\n",
      "0.00s - to python to disable frozen modules.\n",
      "0.00s - Note: Debugging will proceed. Set PYDEVD_DISABLE_FILE_VALIDATION=1 to disable this validation.\n"
     ]
    }
   ],
   "source": [
    "!python -m ipykernel install --user --name=venv --display-name \"Python (venv)\"\n"
   ]
  },
  {
   "cell_type": "markdown",
   "id": "d783bbe9-c00e-4389-a1c0-228405089544",
   "metadata": {},
   "source": [
    "# deleting a env "
   ]
  },
  {
   "cell_type": "code",
   "execution_count": 16,
   "id": "7573fa8a-4720-4b29-ba4b-ffebd9369527",
   "metadata": {},
   "outputs": [],
   "source": [
    "# !conda remove -p venv --all -y\n"
   ]
  },
  {
   "cell_type": "code",
   "execution_count": 3,
   "id": "727a79fb-daf1-4c46-9ba0-7a83fe984784",
   "metadata": {},
   "outputs": [],
   "source": [
    "# !git add *\n",
    "# !git commit -m \"new file added\"\n",
    "# !git push -u origin main"
   ]
  },
  {
   "cell_type": "code",
   "execution_count": 2,
   "id": "6cc5a576-efd0-4c89-8849-ba8509356e8c",
   "metadata": {},
   "outputs": [
    {
     "name": "stdout",
     "output_type": "stream",
     "text": [
      "Reinitialized existing Git repository in C:/Users/raifa/youtube_tutorial/.git/\n"
     ]
    }
   ],
   "source": [
    "!git init"
   ]
  },
  {
   "cell_type": "code",
   "execution_count": 4,
   "id": "9dad9681-4522-403a-ac58-99b37a9f853e",
   "metadata": {},
   "outputs": [
    {
     "name": "stdout",
     "output_type": "stream",
     "text": [
      "On branch main\n",
      "Your branch is ahead of 'origin/main' by 1 commit.\n",
      "  (use \"git push\" to publish your local commits)\n",
      "\n",
      "Changes not staged for commit:\n",
      "  (use \"git add <file>...\" to update what will be committed)\n",
      "  (use \"git restore <file>...\" to discard changes in working directory)\n",
      "\tmodified:   connecting.ipynb\n",
      "\n",
      "no changes added to commit (use \"git add\" and/or \"git commit -a\")\n"
     ]
    }
   ],
   "source": [
    "!git status"
   ]
  },
  {
   "cell_type": "code",
   "execution_count": 9,
   "id": "4387bfe4-2855-4602-ac1c-a31e7af05e7c",
   "metadata": {},
   "outputs": [],
   "source": []
  },
  {
   "cell_type": "code",
   "execution_count": 12,
   "id": "f247479f-4bb1-4cfc-9285-e5355f225a14",
   "metadata": {},
   "outputs": [],
   "source": [
    "# !git add README.md\n",
    "# !git commit -m \"first commit\""
   ]
  },
  {
   "cell_type": "code",
   "execution_count": 16,
   "id": "88f1aaff-8321-4dde-af5b-58f71b0529fd",
   "metadata": {},
   "outputs": [
    {
     "name": "stdout",
     "output_type": "stream",
     "text": [
      "Updating bfb25bd5..3cf98f0f\n",
      "Fast-forward\n",
      " .gitignore | 171 +++++++++++++++++++++++++++++++++++++++++++++++++++++++++++++\n",
      " 1 file changed, 171 insertions(+)\n",
      " create mode 100644 .gitignore\n"
     ]
    },
    {
     "name": "stderr",
     "output_type": "stream",
     "text": [
      "From https://github.com/dragonrai63/youtube_tutorial\n",
      "   bfb25bd5..3cf98f0f  main       -> origin/main\n"
     ]
    }
   ],
   "source": [
    "!git pull \n"
   ]
  },
  {
   "cell_type": "code",
   "execution_count": 19,
   "id": "e2da9cf6-ff35-47be-a034-17ddb9b2beab",
   "metadata": {},
   "outputs": [
    {
     "name": "stdout",
     "output_type": "stream",
     "text": [
      " Volume in drive C is Windows\n",
      " Volume Serial Number is D050-28CE\n",
      "\n",
      " Directory of C:\\Users\\raifa\\youtube_tutorial\n",
      "\n",
      "02/06/2025  02:12 PM    <DIR>          .\n",
      "02/06/2025  12:59 PM    <DIR>          ..\n",
      "02/06/2025  02:06 PM    <DIR>          .git\n",
      "02/06/2025  02:06 PM             3,586 .gitignore\n",
      "02/06/2025  01:49 PM    <DIR>          .ipynb_checkpoints\n",
      "02/06/2025  02:12 PM            27,356 connecting.ipynb\n",
      "02/06/2025  01:49 PM                 5 README.md\n",
      "02/06/2025  01:31 PM    <DIR>          venv\n",
      "               3 File(s)         30,947 bytes\n",
      "               5 Dir(s)  101,463,334,912 bytes free\n"
     ]
    }
   ],
   "source": [
    "!dir /a\n"
   ]
  },
  {
   "cell_type": "code",
   "execution_count": 23,
   "id": "8a4d42ed-b15c-4579-9cc9-0c1a2bcfd4a0",
   "metadata": {},
   "outputs": [],
   "source": [
    "# !jupyter notebook --ContentsManager.allow_hidden=True\n"
   ]
  },
  {
   "cell_type": "code",
   "execution_count": null,
   "id": "3f9f2cfe-de1f-44be-93a8-5baedbf582de",
   "metadata": {},
   "outputs": [],
   "source": []
  }
 ],
 "metadata": {
  "kernelspec": {
   "display_name": "Python (venv)",
   "language": "python",
   "name": "venv"
  },
  "language_info": {
   "codemirror_mode": {
    "name": "ipython",
    "version": 3
   },
   "file_extension": ".py",
   "mimetype": "text/x-python",
   "name": "python",
   "nbconvert_exporter": "python",
   "pygments_lexer": "ipython3",
   "version": "3.11.7"
  }
 },
 "nbformat": 4,
 "nbformat_minor": 5
}
