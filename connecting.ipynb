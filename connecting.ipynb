{
 "cells": [
  {
   "cell_type": "code",
   "execution_count": 2,
   "id": "403ef765-0eba-477d-9ca6-2230161c2ab6",
   "metadata": {},
   "outputs": [
    {
     "name": "stdout",
     "output_type": "stream",
     "text": [
      "Reinitialized existing Git repository in C:/Users/raifa/youtube_tutorial/.git/\n",
      "[main (root-commit) 9746130] first commit\n",
      " 1 file changed, 0 insertions(+), 0 deletions(-)\n",
      " create mode 100644 README.md\n"
     ]
    },
    {
     "name": "stderr",
     "output_type": "stream",
     "text": [
      "error: remote origin already exists.\n"
     ]
    },
    {
     "name": "stdout",
     "output_type": "stream",
     "text": [
      "branch 'main' set up to track 'origin/main'.\n"
     ]
    },
    {
     "name": "stderr",
     "output_type": "stream",
     "text": [
      "To https://github.com/dragonrai63/youtube_tutorial.git\n",
      " * [new branch]      main -> main\n"
     ]
    }
   ],
   "source": [
    "!git init\n",
    "!git add README.md\n",
    "!git commit -m \"first commit\"\n",
    "!git branch -M main\n",
    "!git remote add origin https://github.com/dragonrai63/youtube_tutorial.git\n",
    "!git push -u origin main"
   ]
  },
  {
   "cell_type": "markdown",
   "id": "e9ab7892-7174-4215-8359-d85df34b6496",
   "metadata": {},
   "source": [
    "# first changing the route of file to create new rep"
   ]
  },
  {
   "cell_type": "code",
   "execution_count": 3,
   "id": "931a0371-8232-47ee-991c-3e147458e60b",
   "metadata": {},
   "outputs": [],
   "source": [
    "!git remote remove origin\n",
    "!git remote add origin https://github.com/dragonrai63/youtube_tutorial.git\n"
   ]
  },
  {
   "cell_type": "code",
   "execution_count": 5,
   "id": "158be941-8de1-4256-9488-1a1711915eed",
   "metadata": {},
   "outputs": [
    {
     "name": "stdout",
     "output_type": "stream",
     "text": [
      "branch 'main' set up to track 'origin/main'.\n"
     ]
    },
    {
     "name": "stderr",
     "output_type": "stream",
     "text": [
      "Everything up-to-date\n"
     ]
    }
   ],
   "source": [
    "\n",
    "!git branch -M main\n",
    "!git push -u origin main"
   ]
  },
  {
   "cell_type": "code",
   "execution_count": null,
   "id": "30bbd703-903a-4244-87fd-e92f7cc5d9db",
   "metadata": {},
   "outputs": [],
   "source": []
  }
 ],
 "metadata": {
  "kernelspec": {
   "display_name": "Python 3 (ipykernel)",
   "language": "python",
   "name": "python3"
  },
  "language_info": {
   "codemirror_mode": {
    "name": "ipython",
    "version": 3
   },
   "file_extension": ".py",
   "mimetype": "text/x-python",
   "name": "python",
   "nbconvert_exporter": "python",
   "pygments_lexer": "ipython3",
   "version": "3.11.7"
  }
 },
 "nbformat": 4,
 "nbformat_minor": 5
}
