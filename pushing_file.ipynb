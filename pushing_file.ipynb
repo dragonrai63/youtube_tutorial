{
 "cells": [
  {
   "cell_type": "code",
   "execution_count": 1,
   "id": "97d684d4-e7b4-442d-af66-03873e09f23b",
   "metadata": {},
   "outputs": [
    {
     "name": "stdout",
     "output_type": "stream",
     "text": [
      "Reinitialized existing Git repository in C:/Users/raifa/youtube_tutorial/.git/\n"
     ]
    }
   ],
   "source": [
    " !git init"
   ]
  },
  {
   "cell_type": "code",
   "execution_count": null,
   "id": "64d249dc-bbbb-40bf-8998-2a4a1c27ce57",
   "metadata": {},
   "outputs": [],
   "source": [
    "!git add *\n",
    "!git commit -m \"new file added\"\n",
    "!git push -u origin main"
   ]
  }
 ],
 "metadata": {
  "kernelspec": {
   "display_name": "Python 3 (ipykernel)",
   "language": "python",
   "name": "python3"
  },
  "language_info": {
   "codemirror_mode": {
    "name": "ipython",
    "version": 3
   },
   "file_extension": ".py",
   "mimetype": "text/x-python",
   "name": "python",
   "nbconvert_exporter": "python",
   "pygments_lexer": "ipython3",
   "version": "3.11.7"
  }
 },
 "nbformat": 4,
 "nbformat_minor": 5
}
